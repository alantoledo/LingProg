{
 "cells": [
  {
   "cell_type": "markdown",
   "metadata": {},
   "source": [
    " Faça um Programa que peça o raio de um círculo, calcule e\n",
    "mostre sua área."
   ]
  },
  {
   "cell_type": "code",
   "execution_count": null,
   "metadata": {},
   "outputs": [],
   "source": [
    "p = 3.14\n",
    "r = input (\"Digite o raio do círculo: \")\n",
    "a = p*r**2\n",
    "print('A área do círculo é %s' %a)"
   ]
  },
  {
   "cell_type": "markdown",
   "metadata": {},
   "source": [
    "Faça um Programa que calcule a área de um quadrado, em\n",
    "seguida mostre o dobro desta área para o usuário."
   ]
  },
  {
   "cell_type": "code",
   "execution_count": null,
   "metadata": {},
   "outputs": [],
   "source": [
    "altura = 10\n",
    "largura = 10\n",
    "a = 2*(altura*largura)\n",
    "print ('a área do quadrado é %s' %a)"
   ]
  },
  {
   "cell_type": "markdown",
   "metadata": {},
   "source": [
    "Faça um Programa que pergunte quanto você ganha por hora e o\n",
    "número de horas trabalhadas no mês. Calcule e mostre o total do\n",
    "seu salário no referido mês."
   ]
  },
  {
   "cell_type": "code",
   "execution_count": null,
   "metadata": {},
   "outputs": [],
   "source": [
    "sh = input (\"Digite quanto você ganha por hora: \")\n",
    "ht = input (\"Digite o total de horas que trabalho: \")\n",
    "salario = int(sh) * int (ht)\n",
    "print ('seu salário é: %s' %salario)"
   ]
  },
  {
   "cell_type": "markdown",
   "metadata": {},
   "source": [
    "Faça um Programa que peça a temperatura em graus Farenheit,\n",
    "transforme e mostre a temperatura em graus Celsius. C = (5 * (F-32\n",
    "/ 9)."
   ]
  },
  {
   "cell_type": "code",
   "execution_count": null,
   "metadata": {},
   "outputs": [],
   "source": [
    "f = input(\"Digite a temperatura em graus Fahrenheit: \")\n",
    "vt = int(f)-32\n",
    "c = 5*vt/9\n",
    "print('a temperatura em Celsius é %s' %c)"
   ]
  },
  {
   "cell_type": "markdown",
   "metadata": {},
   "source": [
    " Faça um Programa que peça a temperatura em graus Celsius,\n",
    "transforme e mostre em graus Farenheit."
   ]
  },
  {
   "cell_type": "code",
   "execution_count": null,
   "metadata": {},
   "outputs": [],
   "source": [
    "c = float(input(\"Digite a temperatura em graus Celsius: \"))\n",
    "vt = c * 1.8\n",
    "f = vt + 32\n",
    "print ('a temperatura em Farenheit é %s' %f)"
   ]
  },
  {
   "cell_type": "markdown",
   "metadata": {},
   "source": [
    " Faça um Programa que peça 2 números inteiros e um número\n",
    "real. Calcule e mostre:\n",
    "- o produto do dobro do primeiro com metade do segundo .\n",
    "- a soma do triplo do primeiro com o terceiro.\n",
    "- o terceiro elevado ao cubo."
   ]
  },
  {
   "cell_type": "code",
   "execution_count": null,
   "metadata": {},
   "outputs": [],
   "source": [
    "a = input(\"Digite o primeiro numero inteiro: \")\n",
    "b = input(\"Digite o segundo numero inteiro: \")\n",
    "c = float(input(\"Digite um numero real: \"))\n",
    "exec1 = int(a)*2*(int(b)/2)\n",
    "print('o produto do dobro do primeiro com metade do segundo é %s' %exec1)\n",
    "exec2 = int(a)*3+c\n",
    "print('a soma do triplo do primeiro com o terceiro é %s' %exec2)\n",
    "exec3 = c**3\n",
    "print('o terceiro elevado ao cubo é %s' %exec3)"
   ]
  },
  {
   "cell_type": "markdown",
   "metadata": {},
   "source": [
    "João Papo-de-Pescador, homem de bem, comprou um\n",
    "microcomputador para controlar o rendimento diário de seu\n",
    "trabalho. Toda vez que ele traz um peso de peixes maior que o\n",
    "estabelecido pelo regulamento de pesca do estado de São Paulo (50\n",
    "quilos8 deve pagar uma multa de R$ 4,00 por quilo excedente. João\n",
    "precisa que você faça um programa que leia a variável peso (peso\n",
    "de peixes8 e verifque se há excesso. Se houver, gravar na variável\n",
    "excesso e na variável multa o valor da multa que João deverá pagar.\n",
    "Caso contrário mostrar tais variáveis com o conteúdo ZERO."
   ]
  }
 ],
 "metadata": {
  "kernelspec": {
   "display_name": "Python 3",
   "language": "python",
   "name": "python3"
  },
  "language_info": {
   "codemirror_mode": {
    "name": "ipython",
    "version": 3
   },
   "file_extension": ".py",
   "mimetype": "text/x-python",
   "name": "python",
   "nbconvert_exporter": "python",
   "pygments_lexer": "ipython3",
   "version": "3.6.5"
  }
 },
 "nbformat": 4,
 "nbformat_minor": 2
}
